{
  "nbformat": 4,
  "nbformat_minor": 0,
  "metadata": {
    "colab": {
      "provenance": [],
      "toc_visible": true,
      "authorship_tag": "ABX9TyMheCs4PHZBlaO3qpxzoe5y"
    },
    "kernelspec": {
      "name": "python3",
      "display_name": "Python 3"
    },
    "language_info": {
      "name": "python"
    }
  },
  "cells": [
    {
      "cell_type": "markdown",
      "source": [
        "**INTRODUCCIÓN**"
      ],
      "metadata": {
        "id": "P4xyCjcWRkB6"
      }
    },
    {
      "cell_type": "markdown",
      "source": [
        "aki va la intro"
      ],
      "metadata": {
        "id": "rpHw7byBRvJk"
      }
    },
    {
      "cell_type": "code",
      "source": [
        "#codigo#"
      ],
      "metadata": {
        "id": "fGD7l9rSRpV2"
      },
      "execution_count": null,
      "outputs": []
    },
    {
      "cell_type": "markdown",
      "source": [],
      "metadata": {
        "id": "EVm4UdGqRkvg"
      }
    },
    {
      "cell_type": "markdown",
      "source": [],
      "metadata": {
        "id": "y3j2RNr8Q914"
      }
    }
  ]
}